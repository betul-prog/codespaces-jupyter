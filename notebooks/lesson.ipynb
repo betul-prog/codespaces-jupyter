{
 "cells": [
  {
   "cell_type": "code",
   "execution_count": 1,
   "metadata": {},
   "outputs": [
    {
     "name": "stdout",
     "output_type": "stream",
     "text": [
      "This block is work!\n"
     ]
    }
   ],
   "source": [
    "if True:\n",
    "    print('This block is work!')"
   ]
  },
  {
   "cell_type": "code",
   "execution_count": 3,
   "metadata": {},
   "outputs": [
    {
     "name": "stdout",
     "output_type": "stream",
     "text": [
      "Hırkanı al\n"
     ]
    }
   ],
   "source": [
    "yagmurlu = False\n",
    "bulutlu = True\n",
    "if yagmurlu: \n",
    "    print('Şemsiyeni all!')\n",
    "elif bulutlu:\n",
    "    print('Hırkanı al')\n",
    "else:\n",
    "    print('şemsiyeye gerek yok!')\n",
    "          \n",
    "\n",
    "    \n"
   ]
  },
  {
   "cell_type": "code",
   "execution_count": 5,
   "metadata": {},
   "outputs": [
    {
     "name": "stdout",
     "output_type": "stream",
     "text": [
      "5 10\\den daha kücük\n"
     ]
    }
   ],
   "source": [
    "a = 5\n",
    "b = 10\n",
    "\n",
    "if a < b:\n",
    " print( f'{a} {b}\\den daha kücük') \n",
    "\n",
    "elif a==b:\n",
    " print(f'{a}ve {b} eşittir')\n",
    "\n",
    "else:\n",
    " print(f'{a} {b}\\ den büyüktür')\n",
    "\n",
    "\n",
    " \n"
   ]
  },
  {
   "cell_type": "code",
   "execution_count": 10,
   "metadata": {},
   "outputs": [
    {
     "name": "stdout",
     "output_type": "stream",
     "text": [
      "sayfa çok kötü\n"
     ]
    }
   ],
   "source": [
    "status= 401\n",
    "match status: \n",
    "    case 200: \n",
    "        print('sayfa 10 numara')\n",
    "    case 401:\n",
    "        print('sayfa çok kötü')    \n",
    "    case _:\n",
    "        print('Başka bir status kod dene')"
   ]
  },
  {
   "cell_type": "code",
   "execution_count": 11,
   "metadata": {},
   "outputs": [
    {
     "name": "stdout",
     "output_type": "stream",
     "text": [
      "5\n",
      "4\n",
      "3\n",
      "2\n",
      "1\n"
     ]
    }
   ],
   "source": [
    "num = 5\n",
    "\n",
    "while num > 0:\n",
    "    print(num)\n",
    "    num = num - 1\n",
    "    \n",
    "\n"
   ]
  }
 ],
 "metadata": {
  "kernelspec": {
   "display_name": "Python 3",
   "language": "python",
   "name": "python3"
  },
  "language_info": {
   "codemirror_mode": {
    "name": "ipython",
    "version": 3
   },
   "file_extension": ".py",
   "mimetype": "text/x-python",
   "name": "python",
   "nbconvert_exporter": "python",
   "pygments_lexer": "ipython3",
   "version": "3.10.4"
  },
  "orig_nbformat": 4
 },
 "nbformat": 4,
 "nbformat_minor": 2
}
